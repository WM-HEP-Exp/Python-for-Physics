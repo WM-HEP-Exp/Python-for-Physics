{
 "cells": [
  {
   "cell_type": "markdown",
   "metadata": {},
   "source": [
    "# Animations of Root Finding\n",
    "\n",
    "Animations of simple implementations of the bisection algorithm and the secant method are provided.  These algorithms are implemented in a very simple, non-robust way, to highlight some of their features and failings.\n",
    "\n",
    "## Note:\n",
    "\n",
    "To run in Jupyter Lab I think you need to install the `ipywidgets` Jupyter Lab extension and `ipympl`.  Both of these are available from `Anaconda`. Also see the [documentation](https://ipywidgets.readthedocs.io/en/latest/index.html) for `ipywidgets` for more information.  In particular the *Installation* section discusses the extension for Jupyter Lab. If you install through `Anaconda`, I think this notebook will \"just work\" (though you may need to completely restart jupyter lab, not just the kernel, after you install ipympl)."
   ]
  },
  {
   "cell_type": "code",
   "execution_count": 1,
   "metadata": {},
   "outputs": [],
   "source": [
    "%matplotlib widget\n",
    "import numpy as np\n",
    "import matplotlib.pyplot as plt\n",
    "import ipywidgets as widgets\n",
    "#from IPython.display import display\n",
    "import matplotlib as mpl\n",
    "mpl.rc('xtick', direction='in', top=True)\n",
    "mpl.rc('ytick', direction='in', right=True)"
   ]
  },
  {
   "cell_type": "markdown",
   "metadata": {},
   "source": [
    "## Implementation\n",
    "\n",
    "The implementation of these algorithms in an over engineered manner, yet still without a clearly separated api.  The details of the implementation are not important and will not be the subject of this course.  In particular, much more of the Python language is used here than we will probably even mention or see again in the course.  *You are not expected to understand or study this code.*"
   ]
  },
  {
   "cell_type": "code",
   "execution_count": 2,
   "metadata": {},
   "outputs": [],
   "source": [
    "class RootAlgorithm :\n",
    "    \"\"\"\n",
    "    Base class for a root finding algorithm.\n",
    "    \"\"\"\n",
    "    def __init__(self, func, a, b) :\n",
    "        \"\"\"\n",
    "        For us a root finding algorithm requires a function, f(x).  The algorithm will find\n",
    "        the value of x for which f(x)=0.\n",
    "        In this implementation `func` is a callable that takes one argument.\n",
    "        `a` and `b` are two initial guesses for x to use for the root finding algorithm.\n",
    "        Though we will refer to these as \"brackets\" sometimes, we do not require the root\n",
    "        to be bracketed.\n",
    "        \"\"\"\n",
    "        self.name = None\n",
    "        self.func = func\n",
    "        self.xguess = None # This must be updated in a subclass.\n",
    "        self.reset(a, b)\n",
    "    \n",
    "    def reset(self, a, b) :\n",
    "        \"\"\"\n",
    "        Reset the root finding algorithm back to its starting state.\n",
    "        \"\"\"\n",
    "        self.step = 1\n",
    "        self.set_bracket(a, b)\n",
    "        \n",
    "    def set_bracket(self, a, b) :\n",
    "        \"\"\"\n",
    "        Set the values of `a` and `b` for the algorithm.\n",
    "        \"\"\"\n",
    "        self.a = a\n",
    "        self.b = b\n",
    "        self.calculate_guess()\n",
    "    \n",
    "    def do_step(self) :\n",
    "        \"\"\"\n",
    "        Perform one step of the algorithm.\n",
    "        \"\"\"\n",
    "        self.update_state()\n",
    "        self.calculate_guess()\n",
    "        self.step += 1\n",
    "\n",
    "    def extra_curve_yvals(self, x) :\n",
    "        \"\"\"\n",
    "        Return the y values for an extra curve to include in a plot calculated at the values, `x`.\n",
    "        Here `x` may be a single number of a numpy array.\n",
    "        \"\"\"\n",
    "        return None\n",
    "    \n",
    "    def calculate_guess(self) :\n",
    "        \"\"\"\n",
    "        Calculate the guess for `x` based on the current values of `a` and `b`.\n",
    "        This is algorithm dependent and must be provided in a subclass.\n",
    "        \"\"\"\n",
    "        pass\n",
    "    \n",
    "    def update_state(self) :\n",
    "        \"\"\"\n",
    "        Update the state of the root finding.\n",
    "        This means, update the values of `a` and `b`.\n",
    "        This is algorithm dependent and must be provided in a subclass.\n",
    "        \"\"\"\n",
    "        pass\n",
    "\n",
    "class RootBisection(RootAlgorithm) :\n",
    "    \"\"\"\n",
    "    Very simplistic bisection algorithm.\n",
    "    This does not enforce bracketing (so that we can abuse it).\n",
    "    Never use this for actual root finding!\n",
    "    \"\"\"\n",
    "    def __init__(self, func, a, b) :\n",
    "        super().__init__ (func, a, b)\n",
    "        self.name = 'Bisection'\n",
    "\n",
    "    def calculate_guess(self) :\n",
    "        self.xguess = (self.a + self.b) / 2\n",
    "    \n",
    "    def update_state(self) :\n",
    "        if self.func(self.a) * self.func(self.xguess) > 0 :\n",
    "            self.a = self.xguess\n",
    "        else :\n",
    "            self.b = self.xguess\n",
    "        \n",
    "class RootSecant(RootAlgorithm) :\n",
    "    \"\"\"\n",
    "    Very simplistic secant method algorithm.\n",
    "    This does not enforce bracketing so can fail spectacularly.\n",
    "    Never use this for actual root finding!\n",
    "    \"\"\"\n",
    "    def __init__(self, func, a, b) :\n",
    "        super().__init__ (func, a, b)\n",
    "        self.name = 'Secant Method'\n",
    "\n",
    "    def extra_curve_yvals(self, x) :\n",
    "        fa = self.func(self.a)\n",
    "        fb = self.func(self.b)\n",
    "        m = (fb - fa) / (self.b - self.a)\n",
    "        y = m*(x-self.a) + fa\n",
    "        return y\n",
    "        \n",
    "    def calculate_guess(self) :\n",
    "        fa = self.func(self.a)\n",
    "        fb = self.func(self.b)\n",
    "        self.xguess = self.b - (self.b-self.a)*fb/(fb-fa)\n",
    "        \n",
    "    def update_state(self) :\n",
    "        self.a = self.b\n",
    "        self.b = self.xguess"
   ]
  },
  {
   "cell_type": "markdown",
   "metadata": {},
   "source": [
    "Define a function class. This is not really necessary since functions are already objects and we could just add information to them."
   ]
  },
  {
   "cell_type": "code",
   "execution_count": 3,
   "metadata": {},
   "outputs": [],
   "source": [
    "class Function :\n",
    "    \"\"\"\n",
    "    Wrapper for a function.\n",
    "    \"\"\"\n",
    "    def __init__(self) :\n",
    "        self.title = None\n",
    "        self.expected = None\n",
    "    \n",
    "    def __call__(self, x) :\n",
    "        pass\n",
    "    \n",
    "class Function_Sqrt2(Function) :\n",
    "    \"\"\"\n",
    "    Function for calculating the sqrt(2) using root finding.\n",
    "    The actual function is x^2-2.\n",
    "    \"\"\"\n",
    "    def __init__(self) :\n",
    "        super().__init__()\n",
    "        self.title = r'$\\sqrt{2}$'\n",
    "        self.expected = np.sqrt(2)\n",
    "        \n",
    "    def __call__(self, x) :\n",
    "        return x*x - 2\n",
    "    \n",
    "class Function_Tanh(Function) :\n",
    "    \"\"\"\n",
    "    Function for finding the root of tanh(x-1).\n",
    "    \"\"\"\n",
    "    def __init__(self) :\n",
    "        super().__init__()\n",
    "        self.title = r'$\\tanh(x-1)$'\n",
    "        self.expected = 1\n",
    "        \n",
    "    def __call__(self, x) :\n",
    "        return np.tanh(x-1)"
   ]
  },
  {
   "cell_type": "markdown",
   "metadata": {},
   "source": [
    "Do the animation using ipywidgets for input."
   ]
  },
  {
   "cell_type": "code",
   "execution_count": 4,
   "metadata": {},
   "outputs": [],
   "source": [
    "def make_box_layout():\n",
    "     return widgets.Layout(\n",
    "        border='solid 1px black',\n",
    "        margin='0px 10px 10px 0px',\n",
    "        padding='5px 5px 5px 5px'\n",
    "     )\n",
    "\n",
    "class AnimateRootFinder(widgets.HBox) :\n",
    "    def __init__ (self, algorithm_class, function, a, b) :\n",
    "        \"\"\"\n",
    "        Initialize a root finding algorithm.  This setups the display,\n",
    "        initializes the algorithm, and manages stepping through the algorithm.\n",
    "        Inputs:\n",
    "          algorithm_class : Class name of the root finding algorithm.\n",
    "                            Examples: RootBisection or RootSecant\n",
    "          function : A function object with interface defined by the Function class.\n",
    "          a, b : arrays of length 2 or 3 containing the two initial values for the\n",
    "                 root finding algorithm.\n",
    "                 Element 0 : initial value for a or b\n",
    "                 Element 1 : minimum allowed value for a or maximum allowed value for b\n",
    "                 Element 2 : optional, this is the step size from amin to bmax.\n",
    "                             If both a[2] and b[2] are provided, then a[2] is used.\n",
    "        \"\"\"\n",
    "        super().__init__()\n",
    "        # Store information for future use\n",
    "        self.ain = a\n",
    "        self.bin = b\n",
    "        self.algorithm = algorithm_class(function, a[0], b[0])\n",
    "        self.func = function\n",
    "        # xvalues to use in plot, just add 25% to end of allowed bracket.\n",
    "        self.xrange = np.linspace(self.ain[1]-np.abs(0.25*self.ain[1]),\n",
    "                                  self.bin[1]+np.abs(0.25*self.bin[1]),\n",
    "                                 100)\n",
    "        output = widgets.Output()\n",
    "        with output:\n",
    "            (self.fig, self.ax) = plt.subplots(constrained_layout=True, figsize=(5, 3.5))\n",
    "        self.fig.canvas.toolbar_position = 'bottom'\n",
    "        self.aline = self.ax.axvline(self.algorithm.a, color='r')\n",
    "        self.bline = self.ax.axvline(self.algorithm.b, color='g')\n",
    "        self.xguessline = self.ax.axvline(self.algorithm.xguess, color='k', ls='--')\n",
    "        self.funcline = self.ax.plot(self.xrange, self.func(self.xrange), 'k-')\n",
    "        # There may be an extra curve to plot\n",
    "        self.extraline = None\n",
    "        extra_yvals = self.algorithm.extra_curve_yvals(self.xrange)\n",
    "        if extra_yvals is not None :\n",
    "            self.extraline = self.ax.plot(self.xrange, extra_yvals, 'b-')[0]\n",
    "        # We definitely want the y=0\n",
    "        self.ax.axhline(0, color='k')\n",
    "        # We want the plot to look nicer\n",
    "        self.ax.minorticks_on()\n",
    "        self.ax.set_autoscale_on(False)\n",
    "        self.ax.set_xlim(self.xrange[0], self.xrange[-1])\n",
    "        # Text that will be updated at times.\n",
    "        # Set up the text objects.\n",
    "        self.xguesstext = self.fig.text(0.1, 0.8, f'$x=0$', size=14)\n",
    "        self.xguesstext.set_visible(False)\n",
    "        if self.func.expected is None :\n",
    "            self.errtext = None\n",
    "        else :\n",
    "            self.errtext = self.fig.text(0.1, 0.73, 'err=0', size=14)\n",
    "            self.errtext.set_visible(False)\n",
    "            \n",
    "        self.widgets = {}\n",
    "        step = 0.1\n",
    "        if len(a) == 3 :\n",
    "            step = a[2]\n",
    "        elif len(b) == 3 :\n",
    "            step = b[2]\n",
    "        self.widgets['bracket'] = widgets.FloatRangeSlider(value=[a[0],b[0]], min=a[1], max=b[1],\n",
    "                                                          step=step, description='Bracket',\n",
    "                                                          readout_format='.1f')\n",
    "        self.widgets['reset'] = widgets.Button(description='Reset', tooltip='Reset root finder')\n",
    "        self.widgets['do_step'] = widgets.Button(description='Do Step', tooltip='Do one step of root finding')\n",
    "        # Button actions\n",
    "        self.widgets['reset'].on_click(self.reset)\n",
    "        self.widgets['do_step'].on_click(self.do_step)\n",
    "        # Layout\n",
    "        controls = widgets.VBox([\n",
    "            self.widgets['reset'],\n",
    "            self.widgets['bracket'],\n",
    "            self.widgets['do_step']\n",
    "        ])\n",
    "        controls.layout = make_box_layout()\n",
    "\n",
    "        out_box = widgets.Box([output])\n",
    "        output.layout = make_box_layout()\n",
    "        \n",
    "        # Observe changes in the bracket.\n",
    "        self.widgets['bracket'].observe(self.update_bracket, 'value')\n",
    "        \n",
    "        self.children = [controls, output]\n",
    "        self._update_text()\n",
    "        \n",
    "    def reset(self, *args) :\n",
    "        \"Reset the root finder to the initial state.\"\n",
    "        self.algorithm.reset(self.ain[0], self.bin[0])\n",
    "        w = self.widgets.get('bracket')\n",
    "        if w is not None :\n",
    "            w.value = (self.ain[0], self.bin[0])\n",
    "            w.disabled = False\n",
    "        self.update_plot()\n",
    "    \n",
    "    def update_bracket(self, change) :\n",
    "        \"\"\"\n",
    "        Update the bracket information.  This will also update the root information.\n",
    "        \"\"\"\n",
    "        bracket = change.new\n",
    "        self.algorithm.set_bracket(bracket[0], bracket[1])\n",
    "        self.update_plot()\n",
    "        \n",
    "    def update_plot(self) :\n",
    "        \"\"\"\n",
    "        Update the plot to reflect all changes.\n",
    "        \"\"\"\n",
    "        self._update_lines()\n",
    "        self._update_text()\n",
    "        self._redraw()\n",
    "        \n",
    "    # Internal methods to do the actual updates.\n",
    "    def _update_lines(self) :\n",
    "        self.set_vline(self.aline, self.algorithm.a)\n",
    "        self.set_vline(self.bline, self.algorithm.b)\n",
    "        self.set_vline(self.xguessline, self.algorithm.xguess)\n",
    "        if self.extraline is not None :\n",
    "            extra_yvals = self.algorithm.extra_curve_yvals(self.xrange)\n",
    "            cur = self.extraline.get_data()\n",
    "            self.extraline.set_data((cur[0], extra_yvals))\n",
    "    \n",
    "    def _update_text(self) :\n",
    "        title = f'{self.algorithm.name} for {self.func.title} : Step {self.algorithm.step}'\n",
    "        self.ax.set_title(title)\n",
    "        self.xguesstext.set_text(f'$x={self.algorithm.xguess:.7g}$')\n",
    "        self.xguesstext.set_visible(True)\n",
    "        if self.errtext is not None :\n",
    "            err = np.abs(1 - self.algorithm.xguess/self.func.expected)\n",
    "            self.errtext.set_text(f'err={err:.2g}')\n",
    "            self.errtext.set_visible(True)\n",
    "        \n",
    "    def _redraw(self) :\n",
    "        self.fig.canvas.draw()\n",
    "        \n",
    "    def do_step(self, *args) :\n",
    "        \"\"\"\n",
    "        Do one step of the root finding algorithm and update the plot accordingly.\n",
    "        \"\"\"\n",
    "        # Once we start the algorithm, we can no longer adjust the bracket\n",
    "        # until the root finding is reset.\n",
    "        self.widgets['bracket'].disabled = True\n",
    "        self.algorithm.do_step()\n",
    "        self.update_plot()\n",
    "        \n",
    "    @staticmethod\n",
    "    def set_vline(line, val) :\n",
    "        \"\"\"\n",
    "        Reset the value of a matplotlib vertical line, store in `line`,\n",
    "        to the value, `val`.\n",
    "        This assumes the ordering of information stored in the line.\n",
    "        \"\"\"\n",
    "        cur = line.get_data()\n",
    "        cur[0][0] = cur[0][1] = val\n",
    "        line.set_data(cur)"
   ]
  },
  {
   "cell_type": "code",
   "execution_count": 5,
   "metadata": {},
   "outputs": [
    {
     "data": {
      "application/vnd.jupyter.widget-view+json": {
       "model_id": "e8155c8329fb4ef78b79f2fe624dc6f7",
       "version_major": 2,
       "version_minor": 0
      },
      "text/plain": [
       "AnimateRootFinder(children=(VBox(children=(Button(description='Reset', style=ButtonStyle(), tooltip='Reset roo…"
      ]
     },
     "execution_count": 5,
     "metadata": {},
     "output_type": "execute_result"
    },
    {
     "data": {
      "application/vnd.jupyter.widget-view+json": {
       "model_id": "b17cc6377f0f4d7d8d2053a6251e7ead",
       "version_major": 2,
       "version_minor": 0
      },
      "image/png": "[encoded data removed]",
      "text/html": [
       "\n",
       "            <div style=\"display: inline-block;\">\n",
       "                <div class=\"jupyter-widgets widget-label\" style=\"text-align: center;\">\n",
       "                    Figure\n",
       "                </div>\n",
       "                <img src='data:image/png;base64,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' width=500.0/>\n",
       "            </div>\n",
       "        "
      ],
      "text/plain": [
       "Canvas(toolbar=Toolbar(toolitems=[('Home', 'Reset original view', 'home', 'home'), ('Back', 'Back to previous …"
      ]
     },
     "metadata": {},
     "output_type": "display_data"
    }
   ],
   "source": [
    "a = [1, -2, 0.1]\n",
    "b = [2, 3]\n",
    "AnimateRootFinder(RootBisection, Function_Sqrt2(), a, b)"
   ]
  },
  {
   "cell_type": "code",
   "execution_count": 6,
   "metadata": {},
   "outputs": [
    {
     "data": {
      "application/vnd.jupyter.widget-view+json": {
       "model_id": "29490f9dfea6407fb14758eb655366bd",
       "version_major": 2,
       "version_minor": 0
      },
      "text/plain": [
       "AnimateRootFinder(children=(VBox(children=(Button(description='Reset', style=ButtonStyle(), tooltip='Reset roo…"
      ]
     },
     "metadata": {},
     "output_type": "display_data"
    }
   ],
   "source": [
    "AnimateRootFinder(RootSecant, Function_Sqrt2(), a, b)"
   ]
  },
  {
   "cell_type": "code",
   "execution_count": 7,
   "metadata": {},
   "outputs": [
    {
     "data": {
      "application/vnd.jupyter.widget-view+json": {
       "model_id": "23cbc931ab2147ba9204e420649a072e",
       "version_major": 2,
       "version_minor": 0
      },
      "text/plain": [
       "AnimateRootFinder(children=(VBox(children=(Button(description='Reset', style=ButtonStyle(), tooltip='Reset roo…"
      ]
     },
     "metadata": {},
     "output_type": "display_data"
    }
   ],
   "source": [
    "a = [-1, -2, 0.1]\n",
    "b = [2, 3]\n",
    "AnimateRootFinder(RootBisection, Function_Tanh(), a, b)"
   ]
  },
  {
   "cell_type": "code",
   "execution_count": 8,
   "metadata": {},
   "outputs": [
    {
     "data": {
      "application/vnd.jupyter.widget-view+json": {
       "model_id": "eebe1699d1734ede9b176a7a8f7bbac2",
       "version_major": 2,
       "version_minor": 0
      },
      "text/plain": [
       "AnimateRootFinder(children=(VBox(children=(Button(description='Reset', style=ButtonStyle(), tooltip='Reset roo…"
      ]
     },
     "metadata": {},
     "output_type": "display_data"
    }
   ],
   "source": [
    "AnimateRootFinder(RootSecant, Function_Tanh(), a, b)"
   ]
  },
  {
   "cell_type": "code",
   "execution_count": 9,
   "metadata": {},
   "outputs": [
    {
     "data": {
      "application/vnd.jupyter.widget-view+json": {
       "model_id": "238ebeda6d4a4ec5a3ca8aff45061538",
       "version_major": 2,
       "version_minor": 0
      },
      "text/plain": [
       "AnimateRootFinder(children=(VBox(children=(Button(description='Reset', style=ButtonStyle(), tooltip='Reset roo…"
      ]
     },
     "metadata": {},
     "output_type": "display_data"
    }
   ],
   "source": [
    "a = [-40, -50, 0.1]\n",
    "b = [2, 3]\n",
    "AnimateRootFinder(RootSecant, Function_Tanh(), a, b)"
   ]
  },
  {
   "cell_type": "code",
   "execution_count": null,
   "metadata": {},
   "outputs": [],
   "source": []
  }
 ],
 "metadata": {
  "kernelspec": {
   "display_name": "Python 3 (ipykernel)",
   "language": "python",
   "name": "python3"
  },
  "language_info": {
   "codemirror_mode": {
    "name": "ipython",
    "version": 3
   },
   "file_extension": ".py",
   "mimetype": "text/x-python",
   "name": "python",
   "nbconvert_exporter": "python",
   "pygments_lexer": "ipython3",
   "version": "3.10.12"
  }
 },
 "nbformat": 4,
 "nbformat_minor": 4
}
