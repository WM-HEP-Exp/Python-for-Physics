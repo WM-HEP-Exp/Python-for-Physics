{
 "cells": [
  {
   "cell_type": "markdown",
   "id": "47e8d4f4",
   "metadata": {},
   "source": [
    "# An Introduction to Sympy ( In Progress)\n",
    "A newer branch of \"computational physics\" is the use of programing to solve symbolic mathematics. You may have used Wolfram Alpha or Mathmatica, excellent tools for this type of job. But Python has the abilities to do so as well, through a package called Sympy.\n",
    "\n",
    "As always, we need to import our packages."
   ]
  },
  {
   "cell_type": "code",
   "execution_count": 52,
   "id": "2da180f0",
   "metadata": {
    "ExecuteTime": {
     "end_time": "2025-05-09T23:58:45.430838Z",
     "start_time": "2025-05-09T23:58:45.427755Z"
    }
   },
   "outputs": [],
   "source": [
    "import sympy as sym\n",
    "import numpy as np\n",
    "sym.init_printing(use_unicode=True) #This make the output use unicode characters"
   ]
  },
  {
   "cell_type": "markdown",
   "id": "9202554b",
   "metadata": {},
   "source": [
    "## Solving Symbolicly\n",
    "What does it mean to solve symbolicly? Lets consider the $\\sqrt{12}$\n",
    "We can of course ask the computer to compute with numericaly."
   ]
  },
  {
   "cell_type": "code",
   "execution_count": 33,
   "id": "2f504173",
   "metadata": {
    "ExecuteTime": {
     "end_time": "2025-05-09T23:54:48.471152Z",
     "start_time": "2025-05-09T23:54:48.233462Z"
    }
   },
   "outputs": [
    {
     "data": {
      "image/png": "[encoded data removed]",
      "text/latex": [
       "$\\displaystyle 3.46410161513775$"
      ],
      "text/plain": [
       "3.4641016151377544"
      ]
     },
     "execution_count": 33,
     "metadata": {},
     "output_type": "execute_result"
    }
   ],
   "source": [
    "np.sqrt(12)"
   ]
  },
  {
   "cell_type": "markdown",
   "id": "d00eecd7",
   "metadata": {},
   "source": [
    "This is not the exact value of the square root of 12, because it is irrational but for numerical models this approximation is usally sufficent. But for Symbolic calculations we want to leave this as exact."
   ]
  },
  {
   "cell_type": "code",
   "execution_count": 34,
   "id": "f0768f2d",
   "metadata": {
    "ExecuteTime": {
     "end_time": "2025-05-09T23:54:49.857042Z",
     "start_time": "2025-05-09T23:54:49.701410Z"
    }
   },
   "outputs": [
    {
     "data": {
      "image/png": "[encoded data removed]",
      "text/latex": [
       "$\\displaystyle 2 \\sqrt{3}$"
      ],
      "text/plain": [
       "2⋅√3"
      ]
     },
     "execution_count": 34,
     "metadata": {},
     "output_type": "execute_result"
    }
   ],
   "source": [
    "sym.sqrt(12)"
   ]
  },
  {
   "cell_type": "markdown",
   "id": "225c3c0b",
   "metadata": {},
   "source": [
    "Next we can introduce our own symbols and form a basic expression."
   ]
  },
  {
   "cell_type": "code",
   "execution_count": 50,
   "id": "cb3e2b88",
   "metadata": {
    "ExecuteTime": {
     "end_time": "2025-05-09T23:57:19.415567Z",
     "start_time": "2025-05-09T23:57:19.261752Z"
    }
   },
   "outputs": [
    {
     "data": {
      "image/png": "[encoded data removed]",
      "text/latex": [
       "$\\displaystyle x + 4 y^{2} + 2 \\sqrt{3} z$"
      ],
      "text/plain": [
       "       2         \n",
       "x + 4⋅y  + 2⋅√3⋅z"
      ]
     },
     "execution_count": 50,
     "metadata": {},
     "output_type": "execute_result"
    }
   ],
   "source": [
    "x,y,z=sym.symbols(\"x y z\")\n",
    "expr= x+4*y**2+sym.sqrt(12)*z\n",
    "expr"
   ]
  },
  {
   "cell_type": "markdown",
   "id": "f3f2f43b",
   "metadata": {},
   "source": [
    "Note that we need to define the varibles in our expression. Here is some intresting properties of the symbol functions.\n",
    "\n",
    "This defines a single varible x: "
   ]
  },
  {
   "cell_type": "code",
   "execution_count": 51,
   "id": "5bee97d2",
   "metadata": {
    "ExecuteTime": {
     "end_time": "2025-05-09T23:57:20.159341Z",
     "start_time": "2025-05-09T23:57:20.009773Z"
    }
   },
   "outputs": [
    {
     "data": {
      "image/png": "[encoded data removed]",
      "text/latex": [
       "$\\displaystyle x$"
      ],
      "text/plain": [
       "x"
      ]
     },
     "execution_count": 51,
     "metadata": {},
     "output_type": "execute_result"
    }
   ],
   "source": [
    "sym.symbols(\"x\")"
   ]
  },
  {
   "cell_type": "markdown",
   "id": "523add14",
   "metadata": {},
   "source": [
    "This defines a tuple with 2 single varibles. We can then unpack them as above:"
   ]
  },
  {
   "cell_type": "code",
   "execution_count": 37,
   "id": "f5d15ac0",
   "metadata": {
    "ExecuteTime": {
     "end_time": "2025-05-09T23:54:52.983125Z",
     "start_time": "2025-05-09T23:54:52.836980Z"
    }
   },
   "outputs": [
    {
     "data": {
      "image/png": "[encoded data removed]",
      "text/latex": [
       "$\\displaystyle \\left( x, \\  y\\right)$"
      ],
      "text/plain": [
       "(x, y)"
      ]
     },
     "execution_count": 37,
     "metadata": {},
     "output_type": "execute_result"
    }
   ],
   "source": [
    "sym.symbols(\"x y\") "
   ]
  },
  {
   "cell_type": "markdown",
   "id": "493366cc",
   "metadata": {},
   "source": [
    "We can also use a comma instead of whitespace and greek letters:"
   ]
  },
  {
   "cell_type": "code",
   "execution_count": 49,
   "id": "8bcc34ea",
   "metadata": {
    "ExecuteTime": {
     "end_time": "2025-05-09T23:55:41.894465Z",
     "start_time": "2025-05-09T23:55:41.745326Z"
    }
   },
   "outputs": [
    {
     "data": {
      "image/png": "[encoded data removed]",
      "text/latex": [
       "$\\displaystyle \\left( \\mu, \\  \\nu\\right)$"
      ],
      "text/plain": [
       "(μ, ν)"
      ]
     },
     "execution_count": 49,
     "metadata": {},
     "output_type": "execute_result"
    }
   ],
   "source": [
    "sym.symbols(\"mu,nu\")"
   ]
  },
  {
   "cell_type": "markdown",
   "id": "3199f27b",
   "metadata": {},
   "source": [
    "It may be beneficial to have the function always return an iterable stucture, even if it has one componet. Functions that can return two diffrent structures, especially if one is iterable and one is not is the bane of many. To fix this, just add a comma:"
   ]
  },
  {
   "cell_type": "code",
   "execution_count": 39,
   "id": "ea77fb22",
   "metadata": {
    "ExecuteTime": {
     "end_time": "2025-05-09T23:54:54.985472Z",
     "start_time": "2025-05-09T23:54:54.837496Z"
    }
   },
   "outputs": [
    {
     "data": {
      "image/png": "[encoded data removed]",
      "text/latex": [
       "$\\displaystyle \\left( x,\\right)$"
      ],
      "text/plain": [
       "(x,)"
      ]
     },
     "execution_count": 39,
     "metadata": {},
     "output_type": "execute_result"
    }
   ],
   "source": [
    "sym.symbols(\"x,\")"
   ]
  },
  {
   "cell_type": "markdown",
   "id": "24d714d3",
   "metadata": {},
   "source": [
    "We can also change the return structure to a list instead of a tuple by surrounding it in brackets:"
   ]
  },
  {
   "cell_type": "code",
   "execution_count": 40,
   "id": "3429d7d2",
   "metadata": {
    "ExecuteTime": {
     "end_time": "2025-05-09T23:54:55.818471Z",
     "start_time": "2025-05-09T23:54:55.669506Z"
    }
   },
   "outputs": [
    {
     "data": {
      "image/png": "[encoded data removed]",
      "text/latex": [
       "$\\displaystyle \\left[ a, \\  b, \\  c\\right]$"
      ],
      "text/plain": [
       "[a, b, c]"
      ]
     },
     "execution_count": 40,
     "metadata": {},
     "output_type": "execute_result"
    }
   ],
   "source": [
    "sym.symbols(['a', 'b', 'c'])"
   ]
  },
  {
   "cell_type": "markdown",
   "id": "3a51db7c",
   "metadata": {},
   "source": [
    "Finally, we have a few shortcuts to generate a lot of varibles."
   ]
  },
  {
   "cell_type": "code",
   "execution_count": 41,
   "id": "cf38d4e4",
   "metadata": {
    "ExecuteTime": {
     "end_time": "2025-05-09T23:54:56.595844Z",
     "start_time": "2025-05-09T23:54:56.446902Z"
    }
   },
   "outputs": [
    {
     "data": {
      "image/png": "[encoded data removed]",
      "text/latex": [
       "$\\displaystyle \\left( x_{0}, \\  x_{1}, \\  x_{2}, \\  x_{3}, \\  x_{4}, \\  x_{5}, \\  x_{6}, \\  x_{7}, \\  x_{8}, \\  x_{9}\\right)$"
      ],
      "text/plain": [
       "(x₀, x₁, x₂, x₃, x₄, x₅, x₆, x₇, x₈, x₉)"
      ]
     },
     "execution_count": 41,
     "metadata": {},
     "output_type": "execute_result"
    }
   ],
   "source": [
    "sym.symbols(\"x:10\")"
   ]
  },
  {
   "cell_type": "code",
   "execution_count": 42,
   "id": "da9568e0",
   "metadata": {
    "ExecuteTime": {
     "end_time": "2025-05-09T23:54:56.995402Z",
     "start_time": "2025-05-09T23:54:56.845853Z"
    }
   },
   "outputs": [
    {
     "data": {
      "image/png": "[encoded data removed]",
      "text/latex": [
       "$\\displaystyle \\left( a, \\  b, \\  c, \\  d\\right)$"
      ],
      "text/plain": [
       "(a, b, c, d)"
      ]
     },
     "execution_count": 42,
     "metadata": {},
     "output_type": "execute_result"
    }
   ],
   "source": [
    "sym.symbols(\"a:d\")"
   ]
  },
  {
   "cell_type": "code",
   "execution_count": 43,
   "id": "04c1bb29",
   "metadata": {
    "ExecuteTime": {
     "end_time": "2025-05-09T23:54:57.400351Z",
     "start_time": "2025-05-09T23:54:57.253752Z"
    }
   },
   "outputs": [
    {
     "data": {
      "image/png": "[encoded data removed]",
      "text/latex": [
       "$\\displaystyle \\left( xa, \\  xb, \\  xc, \\  xd\\right)$"
      ],
      "text/plain": [
       "(xa, xb, xc, xd)"
      ]
     },
     "execution_count": 43,
     "metadata": {},
     "output_type": "execute_result"
    }
   ],
   "source": [
    "sym.symbols(\"x(a:d)\")"
   ]
  },
  {
   "cell_type": "code",
   "execution_count": 44,
   "id": "3220d05b",
   "metadata": {
    "ExecuteTime": {
     "end_time": "2025-05-09T23:54:58.097142Z",
     "start_time": "2025-05-09T23:54:57.946241Z"
    }
   },
   "outputs": [
    {
     "data": {
      "image/png": "[encoded data removed]",
      "text/latex": [
       "$\\displaystyle \\left( w_{00}, \\  w_{01}, \\  w_{02}, \\  w_{03}, \\  w_{10}, \\  w_{11}, \\  w_{12}, \\  w_{13}, \\  w_{20}, \\  w_{21}, \\  w_{22}, \\  w_{23}\\right)$"
      ],
      "text/plain": [
       "(w₀₀, w₀₁, w₀₂, w₀₃, w₁₀, w₁₁, w₁₂, w₁₃, w₂₀, w₂₁, w₂₂, w₂₃)"
      ]
     },
     "execution_count": 44,
     "metadata": {},
     "output_type": "execute_result"
    }
   ],
   "source": [
    "sym.symbols('w:3:4')"
   ]
  },
  {
   "cell_type": "markdown",
   "id": "a95e09a6",
   "metadata": {},
   "source": [
    "We can also set conditions on the symbols:"
   ]
  },
  {
   "cell_type": "code",
   "execution_count": 45,
   "id": "998e2e70",
   "metadata": {
    "ExecuteTime": {
     "end_time": "2025-05-09T23:54:59.576108Z",
     "start_time": "2025-05-09T23:54:59.572666Z"
    }
   },
   "outputs": [],
   "source": [
    "a, = sym.symbols('a,', integer=True) # a in a type interger\n",
    "x,y,z = sym.symbols('x,y,z', real=True) # x y and z are all type real\n",
    "f,=sym.symbols('f,', cls=sym.Function) # "
   ]
  },
  {
   "cell_type": "markdown",
   "id": "4719b61d",
   "metadata": {
    "ExecuteTime": {
     "end_time": "2025-05-09T23:52:42.508255Z",
     "start_time": "2025-05-09T23:52:42.504038Z"
    }
   },
   "source": [
    "# The Fun Stuff"
   ]
  },
  {
   "cell_type": "code",
   "execution_count": 55,
   "id": "4d1e4c44",
   "metadata": {
    "ExecuteTime": {
     "end_time": "2025-05-09T23:59:57.975963Z",
     "start_time": "2025-05-09T23:59:57.973224Z"
    }
   },
   "outputs": [],
   "source": [
    "x, t, z, nu, c, w = sym.symbols('x t z nu, c, w')"
   ]
  },
  {
   "cell_type": "markdown",
   "id": "1ed2358c",
   "metadata": {},
   "source": [
    "## Calculas"
   ]
  },
  {
   "cell_type": "code",
   "execution_count": 56,
   "id": "eb472977",
   "metadata": {
    "ExecuteTime": {
     "end_time": "2025-05-10T00:00:07.321469Z",
     "start_time": "2025-05-10T00:00:07.153887Z"
    }
   },
   "outputs": [
    {
     "data": {
      "image/png": "[encoded data removed]",
      "text/latex": [
       "$\\displaystyle c e^{c x} \\sin{\\left(w x \\right)} + w e^{c x} \\cos{\\left(w x \\right)}$"
      ],
      "text/plain": [
       "   c⋅x               c⋅x         \n",
       "c⋅ℯ   ⋅sin(w⋅x) + w⋅ℯ   ⋅cos(w⋅x)"
      ]
     },
     "execution_count": 56,
     "metadata": {},
     "output_type": "execute_result"
    }
   ],
   "source": [
    "sym.diff(sym.sin(w*x)*sym.exp(c*x), x)"
   ]
  },
  {
   "cell_type": "code",
   "execution_count": null,
   "id": "901db914",
   "metadata": {},
   "outputs": [],
   "source": []
  }
 ],
 "metadata": {
  "kernelspec": {
   "display_name": "Python 3 (ipykernel)",
   "language": "python",
   "name": "python3"
  },
  "language_info": {
   "codemirror_mode": {
    "name": "ipython",
    "version": 3
   },
   "file_extension": ".py",
   "mimetype": "text/x-python",
   "name": "python",
   "nbconvert_exporter": "python",
   "pygments_lexer": "ipython3",
   "version": "3.10.12"
  },
  "toc": {
   "base_numbering": 1,
   "nav_menu": {},
   "number_sections": true,
   "sideBar": true,
   "skip_h1_title": false,
   "title_cell": "Table of Contents",
   "title_sidebar": "Contents",
   "toc_cell": false,
   "toc_position": {},
   "toc_section_display": true,
   "toc_window_display": false
  },
  "varInspector": {
   "cols": {
    "lenName": 16,
    "lenType": 16,
    "lenVar": 40
   },
   "kernels_config": {
    "python": {
     "delete_cmd_postfix": "",
     "delete_cmd_prefix": "del ",
     "library": "var_list.py",
     "varRefreshCmd": "print(var_dic_list())"
    },
    "r": {
     "delete_cmd_postfix": ") ",
     "delete_cmd_prefix": "rm(",
     "library": "var_list.r",
     "varRefreshCmd": "cat(var_dic_list()) "
    }
   },
   "types_to_exclude": [
    "module",
    "function",
    "builtin_function_or_method",
    "instance",
    "_Feature"
   ],
   "window_display": false
  }
 },
 "nbformat": 4,
 "nbformat_minor": 5
}
